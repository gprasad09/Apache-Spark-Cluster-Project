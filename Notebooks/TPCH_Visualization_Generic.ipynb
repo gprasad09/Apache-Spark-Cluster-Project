{
 "cells": [
  {
   "cell_type": "code",
   "execution_count": 1,
   "id": "5394c657",
   "metadata": {},
   "outputs": [],
   "source": [
    "#import findspark\n",
    "#findspark.init()\n",
    "import pyspark\n",
    "\n",
    "import pandas as pd\n",
    "import os\n",
    "import matplotlib.pyplot as plt\n",
    "#import seaborn as sns\n",
    "%matplotlib inline\n",
    "from pyspark.sql import SparkSession"
   ]
  },
  {
   "cell_type": "code",
   "execution_count": 2,
   "id": "afd6bc92",
   "metadata": {},
   "outputs": [
    {
     "name": "stdout",
     "output_type": "stream",
     "text": [
      "23/04/04 17:08:01 WARN SparkSession: Using an existing Spark session; only runtime SQL configurations will take effect.\n"
     ]
    }
   ],
   "source": [
    "spark= SparkSession.builder.appName(\"TPCH Data Z=0.5\").getOrCreate()\n",
    "#spark = SparkSession.builder.master(\"spark://sp-manager:7077\").appName(\"Practice1\").getOrCreate()"
   ]
  },
  {
   "cell_type": "code",
   "execution_count": 3,
   "id": "5fa45030",
   "metadata": {},
   "outputs": [
    {
     "data": {
      "text/html": [
       "\n",
       "            <div>\n",
       "                <p><b>SparkSession - hive</b></p>\n",
       "                \n",
       "        <div>\n",
       "            <p><b>SparkContext</b></p>\n",
       "\n",
       "            <p><a href=\"http://sp-manager:4040\">Spark UI</a></p>\n",
       "\n",
       "            <dl>\n",
       "              <dt>Version</dt>\n",
       "                <dd><code>v3.3.1</code></dd>\n",
       "              <dt>Master</dt>\n",
       "                <dd><code>local[*]</code></dd>\n",
       "              <dt>AppName</dt>\n",
       "                <dd><code>PySparkShell</code></dd>\n",
       "            </dl>\n",
       "        </div>\n",
       "        \n",
       "            </div>\n",
       "        "
      ],
      "text/plain": [
       "<pyspark.sql.session.SparkSession at 0x7f70118b3c40>"
      ]
     },
     "execution_count": 3,
     "metadata": {},
     "output_type": "execute_result"
    }
   ],
   "source": [
    "spark"
   ]
  },
  {
   "cell_type": "code",
   "execution_count": 4,
   "id": "6bd4155a",
   "metadata": {},
   "outputs": [],
   "source": [
    "def load_table(filename):\n",
    "    tpch_df = spark.read.format('csv') \\\n",
    "    .option('header', 'false') \\\n",
    "    .option('delimiter', '|') \\\n",
    "    .load(filename, inferSchema='true')    \n",
    "    return tpch_df\n",
    "\n",
    "def getFieldList(tablename):\n",
    "    dss_ddl_file = tpch_home + \"/dss.ddl\"\n",
    "    table=tablename\n",
    "    with open(dss_ddl_file, 'r') as file:\n",
    "        data = file.read()\n",
    "    str_pos= data.index(table)\n",
    "    end_pos= data.index(\";\",str_pos)\n",
    "    data=data[str_pos+len(table)+3: end_pos]    \n",
    "    data =[i.strip()for i in data.split(\"\\n\")]\n",
    "    fields=[]\n",
    "    for line in data:\n",
    "        fields.append(line.split()[0])\n",
    "    return fields   "
   ]
  },
  {
   "cell_type": "code",
   "execution_count": 5,
   "id": "a317c79e",
   "metadata": {},
   "outputs": [
    {
     "name": "stdout",
     "output_type": "stream",
     "text": [
      "/usr/share/ApacheSpark/data/tpch/TPC-H-Skew/z_default\n"
     ]
    },
    {
     "name": "stderr",
     "output_type": "stream",
     "text": [
      "                                                                                \r"
     ]
    },
    {
     "name": "stdout",
     "output_type": "stream",
     "text": [
      "/usr/share/ApacheSpark/data/tpch/TPC-H-Skew/z_0_7\n",
      "/usr/share/ApacheSpark/data/tpch/TPC-H-Skew/z_1\n"
     ]
    }
   ],
   "source": [
    "#tpch_home = \"/usr/share/ApacheSpark/data/tpch/TPC-H-V3.0.1/dbgen\"\n",
    "tpch_home = \"/usr/share/ApacheSpark/data/tpch/TPC-H-Skew\"\n",
    "\n",
    "z_val=[0,0.7,1]\n",
    "z_folder= [\"z_default\", \"z_0_7\", \"z_1\"]\n",
    "tpch_df=[]\n",
    "\n",
    "for i,z in enumerate(z_val):\n",
    "    z_path=z_folder[i]\n",
    "    path= tpch_home + \"/\"+ z_path\n",
    "    print(path)\n",
    "    tablename= \"lineitem.tbl\";\n",
    "    filename= path + \"/\"+tablename\n",
    "    tpch_df.append(load_table(filename))"
   ]
  },
  {
   "cell_type": "code",
   "execution_count": 6,
   "id": "2f789e74",
   "metadata": {},
   "outputs": [
    {
     "name": "stdout",
     "output_type": "stream",
     "text": [
      "Total Rows in lineitem.tbl (z=0): 600000\n",
      "root\n",
      " |-- _c0: integer (nullable = true)\n",
      " |-- _c1: integer (nullable = true)\n",
      " |-- _c2: integer (nullable = true)\n",
      " |-- _c3: integer (nullable = true)\n",
      " |-- _c4: integer (nullable = true)\n",
      " |-- _c5: double (nullable = true)\n",
      " |-- _c6: double (nullable = true)\n",
      " |-- _c7: double (nullable = true)\n",
      " |-- _c8: string (nullable = true)\n",
      " |-- _c9: string (nullable = true)\n",
      " |-- _c10: timestamp (nullable = true)\n",
      " |-- _c11: timestamp (nullable = true)\n",
      " |-- _c12: timestamp (nullable = true)\n",
      " |-- _c13: string (nullable = true)\n",
      " |-- _c14: string (nullable = true)\n",
      " |-- _c15: string (nullable = true)\n",
      " |-- _c16: string (nullable = true)\n",
      "\n",
      "Total Rows in lineitem.tbl (z=0.7): 600000\n",
      "root\n",
      " |-- _c0: integer (nullable = true)\n",
      " |-- _c1: integer (nullable = true)\n",
      " |-- _c2: integer (nullable = true)\n",
      " |-- _c3: integer (nullable = true)\n",
      " |-- _c4: integer (nullable = true)\n",
      " |-- _c5: double (nullable = true)\n",
      " |-- _c6: double (nullable = true)\n",
      " |-- _c7: double (nullable = true)\n",
      " |-- _c8: string (nullable = true)\n",
      " |-- _c9: string (nullable = true)\n",
      " |-- _c10: timestamp (nullable = true)\n",
      " |-- _c11: timestamp (nullable = true)\n",
      " |-- _c12: timestamp (nullable = true)\n",
      " |-- _c13: string (nullable = true)\n",
      " |-- _c14: string (nullable = true)\n",
      " |-- _c15: string (nullable = true)\n",
      " |-- _c16: string (nullable = true)\n",
      "\n",
      "Total Rows in lineitem.tbl (z=1): 600000\n",
      "root\n",
      " |-- _c0: integer (nullable = true)\n",
      " |-- _c1: integer (nullable = true)\n",
      " |-- _c2: integer (nullable = true)\n",
      " |-- _c3: integer (nullable = true)\n",
      " |-- _c4: integer (nullable = true)\n",
      " |-- _c5: double (nullable = true)\n",
      " |-- _c6: double (nullable = true)\n",
      " |-- _c7: double (nullable = true)\n",
      " |-- _c8: string (nullable = true)\n",
      " |-- _c9: string (nullable = true)\n",
      " |-- _c10: timestamp (nullable = true)\n",
      " |-- _c11: timestamp (nullable = true)\n",
      " |-- _c12: timestamp (nullable = true)\n",
      " |-- _c13: string (nullable = true)\n",
      " |-- _c14: string (nullable = true)\n",
      " |-- _c15: string (nullable = true)\n",
      " |-- _c16: string (nullable = true)\n",
      "\n"
     ]
    }
   ],
   "source": [
    "tpch_df1=[]\n",
    "for i,z in enumerate(z_val):\n",
    "    print(f\"Total Rows in {tablename} (z={z}):\", tpch_df[i].count())\n",
    "    tpch_df[i].printSchema()\n",
    "    tblname=\"lineitem_tbl\"+z_folder[i]\n",
    "    tpch_df[i].createOrReplaceTempView(tblname)\n",
    "    tpch_df1.append(spark.sql(\"select _c4,_c5,_c6, _c10, _c11, _c12 from \"+tblname))"
   ]
  },
  {
   "cell_type": "code",
   "execution_count": 7,
   "id": "7d70a862",
   "metadata": {},
   "outputs": [
    {
     "name": "stdout",
     "output_type": "stream",
     "text": [
      "0 L_ORDERKEY\n",
      "1 L_PARTKEY\n",
      "2 L_SUPPKEY\n",
      "3 L_LINENUMBER\n",
      "4 L_QUANTITY\n",
      "5 L_EXTENDEDPRICE\n",
      "6 L_DISCOUNT\n",
      "7 L_TAX\n",
      "8 L_RETURNFLAG\n",
      "9 L_LINESTATUS\n",
      "10 L_SHIPDATE\n",
      "11 L_COMMITDATE\n",
      "12 L_RECEIPTDATE\n",
      "13 L_SHIPINSTRUCT\n",
      "14 L_SHIPMODE\n",
      "15 L_COMMENT\n"
     ]
    }
   ],
   "source": [
    "all_col_list=tpch_df[0].columns\n",
    "field_List= getFieldList(tablename=\"LINEITEM\")\n",
    "for i,label in enumerate(field_List):\n",
    "    print(i,label)"
   ]
  },
  {
   "cell_type": "code",
   "execution_count": 8,
   "id": "acf6e34e",
   "metadata": {},
   "outputs": [
    {
     "name": "stdout",
     "output_type": "stream",
     "text": [
      "+---+--------+----+-------------------+-------------------+-------------------+\n",
      "|_c4|     _c5| _c6|               _c10|               _c11|               _c12|\n",
      "+---+--------+----+-------------------+-------------------+-------------------+\n",
      "| 17|24386.67|0.04|1996-03-13 00:00:00|1996-02-12 00:00:00|1996-03-22 00:00:00|\n",
      "| 36|58958.28|0.09|1996-04-12 00:00:00|1996-02-28 00:00:00|1996-04-20 00:00:00|\n",
      "+---+--------+----+-------------------+-------------------+-------------------+\n",
      "only showing top 2 rows\n",
      "\n",
      "+---+--------+----+-------------------+-------------------+-------------------+\n",
      "|_c4|     _c5| _c6|               _c10|               _c11|               _c12|\n",
      "+---+--------+----+-------------------+-------------------+-------------------+\n",
      "| 17|24386.67|0.04|1996-03-13 00:00:00|1996-02-12 00:00:00|1996-03-22 00:00:00|\n",
      "| 17|24386.67|0.04|1996-03-13 00:00:00|1996-02-12 00:00:00|1996-03-22 00:00:00|\n",
      "+---+--------+----+-------------------+-------------------+-------------------+\n",
      "only showing top 2 rows\n",
      "\n",
      "+---+--------+----+-------------------+-------------------+-------------------+\n",
      "|_c4|     _c5| _c6|               _c10|               _c11|               _c12|\n",
      "+---+--------+----+-------------------+-------------------+-------------------+\n",
      "| 17|24386.67|0.04|1996-03-13 00:00:00|1996-02-12 00:00:00|1996-03-22 00:00:00|\n",
      "| 17|24386.67|0.04|1996-03-13 00:00:00|1996-02-12 00:00:00|1996-03-22 00:00:00|\n",
      "+---+--------+----+-------------------+-------------------+-------------------+\n",
      "only showing top 2 rows\n",
      "\n"
     ]
    }
   ],
   "source": [
    "for i in range(len(z_val)):\n",
    "    tpch_df1[i].show(2)"
   ]
  },
  {
   "cell_type": "markdown",
   "id": "730ab6c0",
   "metadata": {},
   "source": [
    "How to get data from spark dataframe to python"
   ]
  },
  {
   "cell_type": "code",
   "execution_count": 12,
   "id": "013634cc",
   "metadata": {},
   "outputs": [],
   "source": [
    "from matplotlib import colors\n",
    "from matplotlib.ticker import PercentFormatter\n",
    "import warnings\n",
    "warnings.filterwarnings(\"ignore\")  # Ignore warnings coming from Arrow optimizations.\n",
    "\n",
    "# Create a random number generator with a fixed seed for reproducibility\n",
    "n_bins = 20\n",
    "\n",
    "def plot_hist(col):\n",
    "    field_label = field_List[all_col_list.index(col)]\n",
    "    print(field_label)\n",
    "    for i in range(len(z_val)):\n",
    "        psdf = tpch_df1[i].select(col).pandas_api()\n",
    "        dist1= psdf\n",
    "        fig, axs = plt.subplots(1, 1)\n",
    "        axs.hist(dist1, bins=n_bins)\n",
    "        z=z_val[i]\n",
    "        axs.set_title(f\"z={z}\")\n",
    "\n",
    "\n",
    "def plot_hist1(col):\n",
    "    field_label = field_List[all_col_list.index(col)]\n",
    "    fig, axs = plt.subplots(1, 3, sharey=False, tight_layout=False)\n",
    "    print(field_label)\n",
    "    for i in range(len(z_val)):\n",
    "        psdf = tpch_df1[i].select(col).pandas_api()\n",
    "        dist1= psdf        \n",
    "        axs[i].hist(dist1, bins=n_bins)\n",
    "        z=z_val[i]\n",
    "        axs[i].set_title(f\"z={z}\")        "
   ]
  },
  {
   "cell_type": "code",
   "execution_count": 77,
   "id": "d416f642",
   "metadata": {},
   "outputs": [
    {
     "name": "stdout",
     "output_type": "stream",
     "text": [
      "L_EXTENDEDPRICE\n"
     ]
    },
    {
     "data": {
      "image/png": "[encoded data removed]",
      "text/plain": [
       "<Figure size 432x288 with 1 Axes>"
      ]
     },
     "metadata": {
      "needs_background": "light"
     },
     "output_type": "display_data"
    },
    {
     "data": {
      "image/png": "[encoded data removed]",
      "text/plain": [
       "<Figure size 432x288 with 1 Axes>"
      ]
     },
     "metadata": {
      "needs_background": "light"
     },
     "output_type": "display_data"
    },
    {
     "data": {
      "image/png": "[encoded data removed]",
      "text/plain": [
       "<Figure size 432x288 with 1 Axes>"
      ]
     },
     "metadata": {
      "needs_background": "light"
     },
     "output_type": "display_data"
    }
   ],
   "source": [
    "col=\"_c5\"\n",
    "plot_hist(col)"
   ]
  },
  {
   "cell_type": "code",
   "execution_count": 78,
   "id": "3533340b",
   "metadata": {},
   "outputs": [
    {
     "name": "stdout",
     "output_type": "stream",
     "text": [
      "L_QUANTITY\n"
     ]
    },
    {
     "name": "stderr",
     "output_type": "stream",
     "text": [
      "\r",
      "[Stage 27:>                                                       (0 + 17) / 17]\r",
      "\r",
      "                                                                                \r"
     ]
    },
    {
     "data": {
      "image/png": "[encoded data removed]",
      "text/plain": [
       "<Figure size 432x288 with 1 Axes>"
      ]
     },
     "metadata": {
      "needs_background": "light"
     },
     "output_type": "display_data"
    },
    {
     "data": {
      "image/png": "[encoded data removed]",
      "text/plain": [
       "<Figure size 432x288 with 1 Axes>"
      ]
     },
     "metadata": {
      "needs_background": "light"
     },
     "output_type": "display_data"
    },
    {
     "data": {
      "image/png": "[encoded data removed]",
      "text/plain": [
       "<Figure size 432x288 with 1 Axes>"
      ]
     },
     "metadata": {
      "needs_background": "light"
     },
     "output_type": "display_data"
    }
   ],
   "source": [
    "col=\"_c4\"\n",
    "plot_hist(col)"
   ]
  },
  {
   "cell_type": "code",
   "execution_count": 79,
   "id": "0b14681a",
   "metadata": {},
   "outputs": [
    {
     "name": "stdout",
     "output_type": "stream",
     "text": [
      "L_COMMITDATE\n"
     ]
    },
    {
     "name": "stderr",
     "output_type": "stream",
     "text": [
      "\r",
      "[Stage 36:==========================================>             (13 + 4) / 17]\r",
      "\r",
      "                                                                                \r"
     ]
    },
    {
     "data": {
      "image/png": "[encoded data removed]",
      "text/plain": [
       "<Figure size 432x288 with 1 Axes>"
      ]
     },
     "metadata": {
      "needs_background": "light"
     },
     "output_type": "display_data"
    },
    {
     "data": {
      "image/png": "[encoded data removed]",
      "text/plain": [
       "<Figure size 432x288 with 1 Axes>"
      ]
     },
     "metadata": {
      "needs_background": "light"
     },
     "output_type": "display_data"
    },
    {
     "data": {
      "image/png": "[encoded data removed]",
      "text/plain": [
       "<Figure size 432x288 with 1 Axes>"
      ]
     },
     "metadata": {
      "needs_background": "light"
     },
     "output_type": "display_data"
    }
   ],
   "source": [
    "col=\"_c11\"\n",
    "plot_hist(col)"
   ]
  },
  {
   "cell_type": "code",
   "execution_count": 13,
   "id": "8955594b",
   "metadata": {},
   "outputs": [
    {
     "name": "stdout",
     "output_type": "stream",
     "text": [
      "L_COMMITDATE\n"
     ]
    },
    {
     "name": "stderr",
     "output_type": "stream",
     "text": [
      "\r",
      "[Stage 27:=======================================>                (12 + 5) / 17]\r",
      "\r",
      "                                                                                \r"
     ]
    },
    {
     "data": {
      "image/png": "[encoded data removed]",
      "text/plain": [
       "<Figure size 432x288 with 3 Axes>"
      ]
     },
     "metadata": {
      "needs_background": "light"
     },
     "output_type": "display_data"
    }
   ],
   "source": [
    "col=\"_c11\"\n",
    "plot_hist1(col)"
   ]
  },
  {
   "cell_type": "code",
   "execution_count": 80,
   "id": "1d2867d9",
   "metadata": {},
   "outputs": [],
   "source": [
    "spark.stop()"
   ]
  }
 ],
 "metadata": {
  "kernelspec": {
   "display_name": "Python 3 (ipykernel)",
   "language": "python",
   "name": "python3"
  },
  "language_info": {
   "codemirror_mode": {
    "name": "ipython",
    "version": 3
   },
   "file_extension": ".py",
   "mimetype": "text/x-python",
   "name": "python",
   "nbconvert_exporter": "python",
   "pygments_lexer": "ipython3",
   "version": "3.10.6"
  }
 },
 "nbformat": 4,
 "nbformat_minor": 5
}
