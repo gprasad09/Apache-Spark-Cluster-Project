{
 "cells": [
  {
   "cell_type": "code",
   "execution_count": 1,
   "id": "5394c657",
   "metadata": {},
   "outputs": [],
   "source": [
    "#import findspark\n",
    "#findspark.init()\n",
    "import pyspark\n",
    "\n",
    "import pandas as pd\n",
    "import os\n",
    "import matplotlib.pyplot as plt\n",
    "#import seaborn as sns\n",
    "%matplotlib inline\n",
    "from pyspark.sql import SparkSession"
   ]
  },
  {
   "cell_type": "code",
   "execution_count": 2,
   "id": "afd6bc92",
   "metadata": {},
   "outputs": [
    {
     "name": "stdout",
     "output_type": "stream",
     "text": [
      "23/04/04 15:17:29 WARN SparkSession: Using an existing Spark session; only runtime SQL configurations will take effect.\n"
     ]
    }
   ],
   "source": [
    "spark= SparkSession.builder.appName(\"TPCH Data Z=0.5\").getOrCreate()\n",
    "#spark = SparkSession.builder.master(\"spark://sp-manager:7077\").appName(\"Practice1\").getOrCreate()"
   ]
  },
  {
   "cell_type": "code",
   "execution_count": 3,
   "id": "5fa45030",
   "metadata": {},
   "outputs": [
    {
     "data": {
      "text/html": [
       "\n",
       "            <div>\n",
       "                <p><b>SparkSession - hive</b></p>\n",
       "                \n",
       "        <div>\n",
       "            <p><b>SparkContext</b></p>\n",
       "\n",
       "            <p><a href=\"http://sp-manager:4041\">Spark UI</a></p>\n",
       "\n",
       "            <dl>\n",
       "              <dt>Version</dt>\n",
       "                <dd><code>v3.3.1</code></dd>\n",
       "              <dt>Master</dt>\n",
       "                <dd><code>local[*]</code></dd>\n",
       "              <dt>AppName</dt>\n",
       "                <dd><code>PySparkShell</code></dd>\n",
       "            </dl>\n",
       "        </div>\n",
       "        \n",
       "            </div>\n",
       "        "
      ],
      "text/plain": [
       "<pyspark.sql.session.SparkSession at 0x7fd519d9fc40>"
      ]
     },
     "execution_count": 3,
     "metadata": {},
     "output_type": "execute_result"
    }
   ],
   "source": [
    "spark"
   ]
  },
  {
   "cell_type": "code",
   "execution_count": 4,
   "id": "6bd4155a",
   "metadata": {},
   "outputs": [],
   "source": [
    "def load_table(filename):\n",
    "    tpch_df = spark.read.format('csv') \\\n",
    "    .option('header', 'false') \\\n",
    "    .option('delimiter', '|') \\\n",
    "    .load(filename, inferSchema='true')    \n",
    "    return tpch_df\n",
    "\n",
    "def getFieldList(tablename):\n",
    "    dss_ddl_file = tpch_home + \"/dss.ddl\"\n",
    "    table=tablename\n",
    "    with open(dss_ddl_file, 'r') as file:\n",
    "        data = file.read()\n",
    "    str_pos= data.index(table)\n",
    "    end_pos= data.index(\";\",str_pos)\n",
    "    data=data[str_pos+len(table)+3: end_pos]    \n",
    "    data =[i.strip()for i in data.split(\"\\n\")]\n",
    "    fields=[]\n",
    "    for line in data:\n",
    "        fields.append(line.split()[0])\n",
    "    return fields   "
   ]
  },
  {
   "cell_type": "code",
   "execution_count": 5,
   "id": "33e977cb",
   "metadata": {},
   "outputs": [
    {
     "name": "stdout",
     "output_type": "stream",
     "text": [
      "['supplier.tbl', 'order.tbl', 'partsupp.tbl', 'nation.tbl', 'lineitem.tbl', 'region.tbl', 'part.tbl', 'customer.tbl']\n"
     ]
    }
   ],
   "source": [
    "#tpch_home = \"/usr/share/ApacheSpark/data/tpch/TPC-H-V3.0.1/dbgen\"\n",
    "tpch_home = \"/usr/share/ApacheSpark/data/tpch/TPC-H-Skew\"\n",
    "z_path=\"/z_0_7\"\n",
    "\n",
    "path= tpch_home + z_path\n",
    "\n",
    "# Get a list of all .tbl files in the directory\n",
    "files = [f for f in os.listdir(path) if os.path.isfile(os.path.join(path, f)) and f.endswith('.tbl')]\n",
    "\n",
    "# Print the list of files\n",
    "print(files)"
   ]
  },
  {
   "cell_type": "code",
   "execution_count": 6,
   "id": "2f789e74",
   "metadata": {},
   "outputs": [
    {
     "name": "stderr",
     "output_type": "stream",
     "text": [
      "                                                                                \r"
     ]
    },
    {
     "name": "stdout",
     "output_type": "stream",
     "text": [
      "Total Rows in lineitem.tbl: 600000\n"
     ]
    }
   ],
   "source": [
    "tablename= \"lineitem.tbl\";\n",
    "filename= path + \"/\"+tablename\n",
    "tpch_df = load_table(filename)\n",
    "print(f\"Total Rows in {tablename}:\", tpch_df.count())"
   ]
  },
  {
   "cell_type": "code",
   "execution_count": 7,
   "id": "1c31bdcd",
   "metadata": {},
   "outputs": [
    {
     "name": "stdout",
     "output_type": "stream",
     "text": [
      "root\n",
      " |-- _c0: integer (nullable = true)\n",
      " |-- _c1: integer (nullable = true)\n",
      " |-- _c2: integer (nullable = true)\n",
      " |-- _c3: integer (nullable = true)\n",
      " |-- _c4: integer (nullable = true)\n",
      " |-- _c5: double (nullable = true)\n",
      " |-- _c6: double (nullable = true)\n",
      " |-- _c7: double (nullable = true)\n",
      " |-- _c8: string (nullable = true)\n",
      " |-- _c9: string (nullable = true)\n",
      " |-- _c10: timestamp (nullable = true)\n",
      " |-- _c11: timestamp (nullable = true)\n",
      " |-- _c12: timestamp (nullable = true)\n",
      " |-- _c13: string (nullable = true)\n",
      " |-- _c14: string (nullable = true)\n",
      " |-- _c15: string (nullable = true)\n",
      " |-- _c16: string (nullable = true)\n",
      "\n"
     ]
    }
   ],
   "source": [
    "tpch_df.printSchema()"
   ]
  },
  {
   "cell_type": "code",
   "execution_count": 8,
   "id": "3d424ae7",
   "metadata": {},
   "outputs": [],
   "source": [
    "tpch_df.createOrReplaceTempView(\"lineitem_tbl\")"
   ]
  },
  {
   "cell_type": "code",
   "execution_count": 9,
   "id": "b3cadfad",
   "metadata": {},
   "outputs": [],
   "source": [
    "tpch_df1=spark.sql(\"select _c4,_c5,_c6, _c10, _c11, _c12 from lineitem_tbl\")"
   ]
  },
  {
   "cell_type": "code",
   "execution_count": 10,
   "id": "c48a2775",
   "metadata": {},
   "outputs": [
    {
     "name": "stdout",
     "output_type": "stream",
     "text": [
      "+---+--------+----+-------------------+-------------------+-------------------+\n",
      "|_c4|     _c5| _c6|               _c10|               _c11|               _c12|\n",
      "+---+--------+----+-------------------+-------------------+-------------------+\n",
      "| 17|24386.67|0.04|1996-03-13 00:00:00|1996-02-12 00:00:00|1996-03-22 00:00:00|\n",
      "| 17|24386.67|0.04|1996-03-13 00:00:00|1996-02-12 00:00:00|1996-03-22 00:00:00|\n",
      "+---+--------+----+-------------------+-------------------+-------------------+\n",
      "only showing top 2 rows\n",
      "\n"
     ]
    }
   ],
   "source": [
    "tpch_df1.show(2)"
   ]
  },
  {
   "cell_type": "markdown",
   "id": "730ab6c0",
   "metadata": {},
   "source": [
    "How to get data from spark dataframe to python"
   ]
  },
  {
   "cell_type": "code",
   "execution_count": 11,
   "id": "4c409ebc",
   "metadata": {},
   "outputs": [
    {
     "name": "stderr",
     "output_type": "stream",
     "text": [
      "WARNING:root:'PYARROW_IGNORE_TIMEZONE' environment variable was not set. It is required to set this environment variable to '1' in both driver and executor sides if you use pyarrow>=2.0.0. pandas-on-Spark will set it for you but it does not work if there is a Spark context already launched.\n"
     ]
    },
    {
     "name": "stdout",
     "output_type": "stream",
     "text": [
      "CPU times: user 130 ms, sys: 22.4 ms, total: 152 ms\n",
      "Wall time: 231 ms\n"
     ]
    }
   ],
   "source": [
    "%%time\n",
    "psdf = tpch_df1.pandas_api()"
   ]
  },
  {
   "cell_type": "code",
   "execution_count": 12,
   "id": "f5bcd604",
   "metadata": {},
   "outputs": [
    {
     "name": "stdout",
     "output_type": "stream",
     "text": [
      "23/04/04 15:17:39 WARN package: Truncated the string representation of a plan since it was too large. This behavior can be adjusted by setting 'spark.sql.debug.maxToStringFields'.\n"
     ]
    },
    {
     "name": "stderr",
     "output_type": "stream",
     "text": [
      "/usr/local/spark/python/pyspark/pandas/internal.py:1573: FutureWarning: iteritems is deprecated and will be removed in a future version. Use .items instead.\n",
      "  fields = [\n",
      "/usr/local/spark/python/pyspark/sql/pandas/conversion.py:486: FutureWarning: iteritems is deprecated and will be removed in a future version. Use .items instead.\n",
      "  for column, series in pdf.iteritems():\n",
      "                                                                                \r"
     ]
    },
    {
     "data": {
      "text/html": [
       "<div>\n",
       "<style scoped>\n",
       "    .dataframe tbody tr th:only-of-type {\n",
       "        vertical-align: middle;\n",
       "    }\n",
       "\n",
       "    .dataframe tbody tr th {\n",
       "        vertical-align: top;\n",
       "    }\n",
       "\n",
       "    .dataframe thead th {\n",
       "        text-align: right;\n",
       "    }\n",
       "</style>\n",
       "<table border=\"1\" class=\"dataframe\">\n",
       "  <thead>\n",
       "    <tr style=\"text-align: right;\">\n",
       "      <th></th>\n",
       "      <th>_c4</th>\n",
       "      <th>_c5</th>\n",
       "      <th>_c6</th>\n",
       "      <th>_c10</th>\n",
       "      <th>_c11</th>\n",
       "      <th>_c12</th>\n",
       "    </tr>\n",
       "  </thead>\n",
       "  <tbody>\n",
       "    <tr>\n",
       "      <th>count</th>\n",
       "      <td>600000.00000</td>\n",
       "      <td>600000.000000</td>\n",
       "      <td>600000.000000</td>\n",
       "      <td>600000</td>\n",
       "      <td>600000</td>\n",
       "      <td>600000</td>\n",
       "    </tr>\n",
       "    <tr>\n",
       "      <th>mean</th>\n",
       "      <td>25.00000</td>\n",
       "      <td>36086.168834</td>\n",
       "      <td>0.050501</td>\n",
       "      <td>1995-06-17 04:44:24.660000</td>\n",
       "      <td>1995-06-15 22:22:26.502000</td>\n",
       "      <td>1995-07-02 12:27:22.026000</td>\n",
       "    </tr>\n",
       "    <tr>\n",
       "      <th>min</th>\n",
       "      <td>1.00000</td>\n",
       "      <td>904.000000</td>\n",
       "      <td>0.000000</td>\n",
       "      <td>1992-01-02 00:00:00</td>\n",
       "      <td>1992-01-31 00:00:00</td>\n",
       "      <td>1992-01-07 00:00:00</td>\n",
       "    </tr>\n",
       "    <tr>\n",
       "      <th>25%</th>\n",
       "      <td>13.00000</td>\n",
       "      <td>17821.260000</td>\n",
       "      <td>0.020000</td>\n",
       "      <td>1993-11-11 00:00:00</td>\n",
       "      <td>1993-11-16 00:00:00</td>\n",
       "      <td>1993-11-26 00:00:00</td>\n",
       "    </tr>\n",
       "    <tr>\n",
       "      <th>50%</th>\n",
       "      <td>26.00000</td>\n",
       "      <td>34396.200000</td>\n",
       "      <td>0.050000</td>\n",
       "      <td>1995-06-26 00:00:00</td>\n",
       "      <td>1995-06-26 00:00:00</td>\n",
       "      <td>1995-07-11 00:00:00</td>\n",
       "    </tr>\n",
       "    <tr>\n",
       "      <th>75%</th>\n",
       "      <td>38.00000</td>\n",
       "      <td>51963.780000</td>\n",
       "      <td>0.080000</td>\n",
       "      <td>1997-01-19 00:00:00</td>\n",
       "      <td>1997-01-27 00:00:00</td>\n",
       "      <td>1997-02-03 00:00:00</td>\n",
       "    </tr>\n",
       "    <tr>\n",
       "      <th>max</th>\n",
       "      <td>50.00000</td>\n",
       "      <td>95949.500000</td>\n",
       "      <td>0.100000</td>\n",
       "      <td>1998-12-01 00:00:00</td>\n",
       "      <td>1998-10-31 00:00:00</td>\n",
       "      <td>1998-12-28 00:00:00</td>\n",
       "    </tr>\n",
       "    <tr>\n",
       "      <th>std</th>\n",
       "      <td>14.34613</td>\n",
       "      <td>21954.092340</td>\n",
       "      <td>0.031650</td>\n",
       "      <td>None</td>\n",
       "      <td>None</td>\n",
       "      <td>None</td>\n",
       "    </tr>\n",
       "  </tbody>\n",
       "</table>\n",
       "</div>"
      ],
      "text/plain": [
       "                _c4            _c5            _c6                        _c10                        _c11                        _c12\n",
       "count  600000.00000  600000.000000  600000.000000                      600000                      600000                      600000\n",
       "mean       25.00000   36086.168834       0.050501  1995-06-17 04:44:24.660000  1995-06-15 22:22:26.502000  1995-07-02 12:27:22.026000\n",
       "min         1.00000     904.000000       0.000000         1992-01-02 00:00:00         1992-01-31 00:00:00         1992-01-07 00:00:00\n",
       "25%        13.00000   17821.260000       0.020000         1993-11-11 00:00:00         1993-11-16 00:00:00         1993-11-26 00:00:00\n",
       "50%        26.00000   34396.200000       0.050000         1995-06-26 00:00:00         1995-06-26 00:00:00         1995-07-11 00:00:00\n",
       "75%        38.00000   51963.780000       0.080000         1997-01-19 00:00:00         1997-01-27 00:00:00         1997-02-03 00:00:00\n",
       "max        50.00000   95949.500000       0.100000         1998-12-01 00:00:00         1998-10-31 00:00:00         1998-12-28 00:00:00\n",
       "std        14.34613   21954.092340       0.031650                        None                        None                        None"
      ]
     },
     "execution_count": 12,
     "metadata": {},
     "output_type": "execute_result"
    }
   ],
   "source": [
    "psdf.describe()"
   ]
  },
  {
   "cell_type": "code",
   "execution_count": 13,
   "id": "21df7638",
   "metadata": {},
   "outputs": [
    {
     "data": {
      "image/png": "[encoded data removed]",
      "text/plain": [
       "<Figure size 432x288 with 1 Axes>"
      ]
     },
     "metadata": {
      "needs_background": "light"
     },
     "output_type": "display_data"
    },
    {
     "data": {
      "image/png": "[encoded data removed]",
      "text/plain": [
       "<Figure size 432x288 with 1 Axes>"
      ]
     },
     "metadata": {
      "needs_background": "light"
     },
     "output_type": "display_data"
    },
    {
     "data": {
      "image/png": "[encoded data removed]",
      "text/plain": [
       "<Figure size 432x288 with 1 Axes>"
      ]
     },
     "metadata": {
      "needs_background": "light"
     },
     "output_type": "display_data"
    },
    {
     "data": {
      "image/png": "[encoded data removed]",
      "text/plain": [
       "<Figure size 432x288 with 1 Axes>"
      ]
     },
     "metadata": {
      "needs_background": "light"
     },
     "output_type": "display_data"
    },
    {
     "data": {
      "image/png": "[encoded data removed]",
      "text/plain": [
       "<Figure size 432x288 with 1 Axes>"
      ]
     },
     "metadata": {
      "needs_background": "light"
     },
     "output_type": "display_data"
    },
    {
     "data": {
      "image/png": "[encoded data removed]",
      "text/plain": [
       "<Figure size 432x288 with 1 Axes>"
      ]
     },
     "metadata": {
      "needs_background": "light"
     },
     "output_type": "display_data"
    }
   ],
   "source": [
    "from matplotlib import colors\n",
    "from matplotlib.ticker import PercentFormatter\n",
    "import warnings\n",
    "warnings.filterwarnings(\"ignore\")  # Ignore warnings coming from Arrow optimizations.\n",
    "\n",
    "# Create a random number generator with a fixed seed for reproducibility\n",
    "field_List= getFieldList(tablename=\"LINEITEM\")\n",
    "col_list= tpch_df.columns\n",
    "n_bins = 20\n",
    "\n",
    "for col in psdf.columns: \n",
    "    dist1 = psdf[col]    \n",
    "    field_label = field_List[col_list.index(col)]\n",
    "    fig, axs = plt.subplots(1, 1, sharey=False, tight_layout=False)\n",
    "    axs.hist(dist1, bins=n_bins)\n",
    "    axs.set_title(f\"Histogram for {field_label}\")"
   ]
  },
  {
   "cell_type": "code",
   "execution_count": 14,
   "id": "1d2867d9",
   "metadata": {},
   "outputs": [],
   "source": [
    "spark.stop()"
   ]
  },
  {
   "cell_type": "code",
   "execution_count": null,
   "id": "1f2f37a3",
   "metadata": {},
   "outputs": [],
   "source": []
  }
 ],
 "metadata": {
  "kernelspec": {
   "display_name": "Python 3 (ipykernel)",
   "language": "python",
   "name": "python3"
  },
  "language_info": {
   "codemirror_mode": {
    "name": "ipython",
    "version": 3
   },
   "file_extension": ".py",
   "mimetype": "text/x-python",
   "name": "python",
   "nbconvert_exporter": "python",
   "pygments_lexer": "ipython3",
   "version": "3.10.6"
  }
 },
 "nbformat": 4,
 "nbformat_minor": 5
}
