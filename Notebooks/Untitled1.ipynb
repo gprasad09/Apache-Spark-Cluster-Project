{
 "cells": [
  {
   "cell_type": "code",
   "execution_count": null,
   "id": "25555635",
   "metadata": {},
   "outputs": [],
   "source": [
    "import matplotlib.pyplot as plt\n",
    "import pyspark.sql.functions as F\n",
    "from pyspark.sql import SparkSession\n",
    "\n",
    "# Initialize a SparkSession\n",
    "spark = SparkSession.builder.appName(\"Histogram\").getOrCreate()\n",
    "\n",
    "# Load the CSV file into a Spark DataFrame\n",
    "df = spark.read.format(\"csv\").option(\"header\", \"true\").option(\"inferSchema\", \"true\").load(\"path/to/file.csv\")\n",
    "\n",
    "# Choose the column to plot\n",
    "column_name = \"my_column\"\n",
    "\n",
    "# Compute the histogram\n",
    "bins = 10\n",
    "counts, edges = df.select(F.histogram(column_name, bins)).first()\n",
    "\n",
    "# Create the histogram using Matplotlib\n",
    "plt.hist(edges[:-1], edges, weights=counts)\n",
    "\n",
    "# Customize the histogram\n",
    "plt.title(\"Histogram of \" + column_name)\n",
    "plt.xlabel(column_name)\n",
    "plt.ylabel(\"Frequency\")\n",
    "\n",
    "# Show the histogram\n",
    "plt.show()\n"
   ]
  }
 ],
 "metadata": {
  "kernelspec": {
   "display_name": "Python 3 (ipykernel)",
   "language": "python",
   "name": "python3"
  },
  "language_info": {
   "codemirror_mode": {
    "name": "ipython",
    "version": 3
   },
   "file_extension": ".py",
   "mimetype": "text/x-python",
   "name": "python",
   "nbconvert_exporter": "python",
   "pygments_lexer": "ipython3",
   "version": "3.10.6"
  }
 },
 "nbformat": 4,
 "nbformat_minor": 5
}
