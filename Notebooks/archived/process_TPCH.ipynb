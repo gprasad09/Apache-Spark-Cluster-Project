{
 "cells": [
  {
   "cell_type": "code",
   "execution_count": 38,
   "id": "3f40b0cf",
   "metadata": {},
   "outputs": [],
   "source": [
    "import os\n",
    "from pyspark.sql import SparkSession"
   ]
  },
  {
   "cell_type": "code",
   "execution_count": 1,
   "id": "77b5697e",
   "metadata": {},
   "outputs": [],
   "source": [
    "path = \"/usr/share/ApacheSpark/data/tpch/TPC-H V3.0.1/dbgen/\""
   ]
  },
  {
   "cell_type": "code",
   "execution_count": 40,
   "id": "83a88412",
   "metadata": {},
   "outputs": [
    {
     "name": "stdout",
     "output_type": "stream",
     "text": [
      "['supplier.tbl', 'partsupp.tbl', 'nation.tbl', 'lineitem.tbl', 'orders.tbl', 'region.tbl', 'part.tbl', 'customer.tbl']\n"
     ]
    }
   ],
   "source": [
    "# Get a list of all .tbl files in the directory\n",
    "files = [f for f in os.listdir(path) if os.path.isfile(os.path.join(path, f)) and f.endswith('.tbl')]\n",
    "\n",
    "# Print the list of files\n",
    "print(files)"
   ]
  },
  {
   "cell_type": "code",
   "execution_count": 2,
   "id": "78f34937",
   "metadata": {},
   "outputs": [],
   "source": [
    "file= path + \"lineitem.tbl\""
   ]
  },
  {
   "cell_type": "code",
   "execution_count": 42,
   "id": "59cd08cc",
   "metadata": {},
   "outputs": [
    {
     "name": "stdout",
     "output_type": "stream",
     "text": [
      "23/03/14 18:57:34 WARN SparkSession: Using an existing Spark session; only runtime SQL configurations will take effect.\n"
     ]
    }
   ],
   "source": [
    "# Create a SparkSession\n",
    "spark = SparkSession.builder.appName('TPCH Query').getOrCreate()"
   ]
  },
  {
   "cell_type": "code",
   "execution_count": 3,
   "id": "c5df9239",
   "metadata": {},
   "outputs": [],
   "source": [
    "tpch_df = spark.read.format('csv') \\\n",
    "    .option('header', 'false') \\\n",
    "    .option('delimiter', '|') \\\n",
    "    .load(file)"
   ]
  },
  {
   "cell_type": "code",
   "execution_count": 44,
   "id": "a63b1ef0",
   "metadata": {},
   "outputs": [
    {
     "name": "stderr",
     "output_type": "stream",
     "text": [
      "                                                                                \r"
     ]
    },
    {
     "data": {
      "text/plain": [
       "DataFrame[summary: string, _c0: string, _c1: string, _c2: string, _c3: string, _c4: string, _c5: string, _c6: string, _c7: string, _c8: string]"
      ]
     },
     "execution_count": 44,
     "metadata": {},
     "output_type": "execute_result"
    }
   ],
   "source": [
    "tpch_df.describe()"
   ]
  },
  {
   "cell_type": "code",
   "execution_count": 45,
   "id": "9a3d473e",
   "metadata": {},
   "outputs": [
    {
     "data": {
      "text/plain": [
       "DataFrame[_c0: string, _c1: string, _c2: string, _c3: string, _c4: string, _c5: string, _c6: string, _c7: string, _c8: string]"
      ]
     },
     "execution_count": 45,
     "metadata": {},
     "output_type": "execute_result"
    }
   ],
   "source": [
    "tpch_df"
   ]
  },
  {
   "cell_type": "code",
   "execution_count": 46,
   "id": "16732ddd",
   "metadata": {},
   "outputs": [
    {
     "data": {
      "text/plain": [
       "15000"
      ]
     },
     "execution_count": 46,
     "metadata": {},
     "output_type": "execute_result"
    }
   ],
   "source": [
    "tpch_df.count()"
   ]
  },
  {
   "cell_type": "code",
   "execution_count": 47,
   "id": "3e14d4d7",
   "metadata": {},
   "outputs": [
    {
     "name": "stdout",
     "output_type": "stream",
     "text": [
      "+---+------------------+--------------------+---+---------------+-------+----------+--------------------+----+\n",
      "|_c0|               _c1|                 _c2|_c3|            _c4|    _c5|       _c6|                 _c7| _c8|\n",
      "+---+------------------+--------------------+---+---------------+-------+----------+--------------------+----+\n",
      "|  1|Customer#000000001|   IVhzIApeRb ot,c,E| 15|25-989-741-2988| 711.56|  BUILDING|to the even, regu...|null|\n",
      "|  2|Customer#000000002|XSTf4,NCwDVaWNe6t...| 13|23-768-687-3665| 121.65|AUTOMOBILE|l accounts. blith...|null|\n",
      "|  3|Customer#000000003|        MG9kdTD2WBHm|  1|11-719-748-3364|7498.12|AUTOMOBILE| deposits eat sly...|null|\n",
      "|  4|Customer#000000004|         XxVSJsLAGtn|  4|14-128-190-5944|2866.83| MACHINERY| requests. final,...|null|\n",
      "|  5|Customer#000000005|KvpyuHCplrB84WgAi...|  3|13-750-942-6364| 794.47| HOUSEHOLD|n accounts will h...|null|\n",
      "|  6|Customer#000000006|sKZz0CsnMD7mp4Xd0...| 20|30-114-968-4951|7638.57|AUTOMOBILE|tions. even depos...|null|\n",
      "|  7|Customer#000000007|TcGe5gaZNgVePxU5k...| 18|28-190-982-9759|9561.95|AUTOMOBILE|ainst the ironic,...|null|\n",
      "|  8|Customer#000000008|I0B10bB0AymmC, 0P...| 17|27-147-574-9335|6819.74|  BUILDING|among the slyly r...|null|\n",
      "|  9|Customer#000000009|xKiAFTjUsCuxfeleN...|  8|18-338-906-3675|8324.07| FURNITURE|r theodolites acc...|null|\n",
      "| 10|Customer#000000010|6LrEaV6KR6PLVcgl2...|  5|15-741-346-9870|2753.54| HOUSEHOLD|es regular deposi...|null|\n",
      "| 11|Customer#000000011|PkWS 3HlXqwTuzrKg...| 23|33-464-151-3439|-272.60|  BUILDING|ckages. requests ...|null|\n",
      "| 12|Customer#000000012|       9PWKuhzT4Zr1Q| 13|23-791-276-1263|3396.49| HOUSEHOLD| to the carefully...|null|\n",
      "| 13|Customer#000000013|nsXQu0oVjD7PM659u...|  3|13-761-547-5974|3857.34|  BUILDING|ounts sleep caref...|null|\n",
      "| 14|Customer#000000014|     KXkletMlL2JQEA |  1|11-845-129-3851|5266.30| FURNITURE|, ironic packages...|null|\n",
      "| 15|Customer#000000015|YtWggXoOLdwdo7b0y...| 23|33-687-542-7601|2788.52| HOUSEHOLD| platelets. regul...|null|\n",
      "| 16|Customer#000000016| cYiaeMLZSMAOQ2 d0W,| 10|20-781-609-3107|4681.03| FURNITURE|kly silent courts...|null|\n",
      "| 17|Customer#000000017|izrh 6jdqtp2eqdtb...|  2|12-970-682-3487|   6.34|AUTOMOBILE|packages wake! bl...|null|\n",
      "| 18|Customer#000000018|3txGO AiuFux3zT0Z...|  6|16-155-215-1315|5494.43|  BUILDING|s sleep. carefull...|null|\n",
      "| 19|Customer#000000019|uc,3bHIx84H,wdrmL...| 18|28-396-526-5053|8914.71| HOUSEHOLD| nag. furiously c...|null|\n",
      "| 20|Customer#000000020|       JrPk8Pqplj4Ne| 22|32-957-234-8742|7603.40| FURNITURE|g alongside of th...|null|\n",
      "+---+------------------+--------------------+---+---------------+-------+----------+--------------------+----+\n",
      "only showing top 20 rows\n",
      "\n"
     ]
    }
   ],
   "source": [
    "tpch_df.show()"
   ]
  },
  {
   "cell_type": "code",
   "execution_count": 48,
   "id": "d69654bb",
   "metadata": {},
   "outputs": [
    {
     "name": "stdout",
     "output_type": "stream",
     "text": [
      "Total rows with BUILDING : 3111\n"
     ]
    }
   ],
   "source": [
    "filterd_BUILDING = tpch_df.filter(tpch_df[\"_c6\"]==\"BUILDING\")\n",
    "print (\"Total rows with BUILDING :\", filterd_BUILDING.count())"
   ]
  },
  {
   "cell_type": "code",
   "execution_count": 49,
   "id": "7f043353",
   "metadata": {},
   "outputs": [
    {
     "name": "stdout",
     "output_type": "stream",
     "text": [
      "+------------------+--------------------+\n",
      "|               _c1|                 _c7|\n",
      "+------------------+--------------------+\n",
      "|Customer#000000001|to the even, regu...|\n",
      "|Customer#000000008|among the slyly r...|\n",
      "|Customer#000000011|ckages. requests ...|\n",
      "|Customer#000000013|ounts sleep caref...|\n",
      "|Customer#000000018|s sleep. carefull...|\n",
      "|Customer#000000027| about the carefu...|\n",
      "|Customer#000000030|lithely final req...|\n",
      "|Customer#000000032|cial ideas. final...|\n",
      "|Customer#000000036|haggle. enticing,...|\n",
      "|Customer#000000040|rges impress afte...|\n",
      "|Customer#000000042|ssly according to...|\n",
      "|Customer#000000047|ions. express, ir...|\n",
      "|Customer#000000048|re fluffily pendi...|\n",
      "|Customer#000000064|structions after ...|\n",
      "|Customer#000000073|usual, unusual pa...|\n",
      "|Customer#000000077|uffily silent req...|\n",
      "|Customer#000000081|r packages. fluff...|\n",
      "|Customer#000000083|ccording to the q...|\n",
      "|Customer#000000090|sly across the fu...|\n",
      "|Customer#000000098|ages. furiously p...|\n",
      "+------------------+--------------------+\n",
      "only showing top 20 rows\n",
      "\n"
     ]
    }
   ],
   "source": [
    "filterd_BUILDING.select(\"_c1\", \"_c7\").show()"
   ]
  },
  {
   "cell_type": "code",
   "execution_count": 50,
   "id": "f1afd7f6",
   "metadata": {},
   "outputs": [],
   "source": [
    "# Create a SparkSession\n",
    "spark.stop()"
   ]
  },
  {
   "cell_type": "code",
   "execution_count": 51,
   "id": "e9bddf6a",
   "metadata": {},
   "outputs": [
    {
     "ename": "TypeError",
     "evalue": "'Column' object is not callable",
     "output_type": "error",
     "traceback": [
      "\u001b[0;31m---------------------------------------------------------------------------\u001b[0m",
      "\u001b[0;31mTypeError\u001b[0m                                 Traceback (most recent call last)",
      "\u001b[0;32m/tmp/ipykernel_1144/1683458483.py\u001b[0m in \u001b[0;36m<module>\u001b[0;34m\u001b[0m\n\u001b[0;32m----> 1\u001b[0;31m \u001b[0mtpch_df\u001b[0m\u001b[0;34m[\u001b[0m\u001b[0;34m\"_c6\"\u001b[0m\u001b[0;34m]\u001b[0m\u001b[0;34m.\u001b[0m\u001b[0mshow\u001b[0m\u001b[0;34m(\u001b[0m\u001b[0;34m)\u001b[0m\u001b[0;34m\u001b[0m\u001b[0;34m\u001b[0m\u001b[0m\n\u001b[0m",
      "\u001b[0;31mTypeError\u001b[0m: 'Column' object is not callable"
     ]
    }
   ],
   "source": [
    "tpch_df[\"_c6\"].show()"
   ]
  },
  {
   "cell_type": "code",
   "execution_count": null,
   "id": "baeadea0",
   "metadata": {},
   "outputs": [],
   "source": []
  }
 ],
 "metadata": {
  "kernelspec": {
   "display_name": "Python 3 (ipykernel)",
   "language": "python",
   "name": "python3"
  },
  "language_info": {
   "codemirror_mode": {
    "name": "ipython",
    "version": 3
   },
   "file_extension": ".py",
   "mimetype": "text/x-python",
   "name": "python",
   "nbconvert_exporter": "python",
   "pygments_lexer": "ipython3",
   "version": "3.10.6"
  }
 },
 "nbformat": 4,
 "nbformat_minor": 5
}
