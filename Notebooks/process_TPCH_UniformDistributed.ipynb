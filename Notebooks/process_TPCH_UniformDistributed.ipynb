{
 "cells": [
  {
   "cell_type": "code",
   "execution_count": 1,
   "id": "3f40b0cf",
   "metadata": {},
   "outputs": [
    {
     "name": "stderr",
     "output_type": "stream",
     "text": [
      "WARNING:root:'PYARROW_IGNORE_TIMEZONE' environment variable was not set. It is required to set this environment variable to '1' in both driver and executor sides if you use pyarrow>=2.0.0. pandas-on-Spark will set it for you but it does not work if there is a Spark context already launched.\n"
     ]
    }
   ],
   "source": [
    "import os\n",
    "from pyspark.sql import SparkSession\n",
    "import matplotlib.pyplot as plt\n",
    "import pyspark.pandas as ps\n",
    "import numpy as np\n",
    "\n",
    "%matplotlib inline"
   ]
  },
  {
   "cell_type": "code",
   "execution_count": 2,
   "id": "3924e7dd",
   "metadata": {},
   "outputs": [],
   "source": [
    "def load_table(filename):\n",
    "    tpch_df = spark.read.format('csv') \\\n",
    "    .option('header', 'false') \\\n",
    "    .option('delimiter', '|') \\\n",
    "    .load(filename, inferSchema='true')    \n",
    "    return tpch_df\n",
    "\n",
    "def getFieldList(tablename):\n",
    "    dss_ddl_file = tpch_home + \"/dss.ddl\"\n",
    "    table=tablename\n",
    "    with open(dss_ddl_file, 'r') as file:\n",
    "        data = file.read()\n",
    "    str_pos= data.index(table)\n",
    "    end_pos= data.index(\";\",str_pos)\n",
    "    data=data[str_pos+len(table)+3: end_pos]    \n",
    "    data =[i.strip()for i in data.split(\"\\n\")]\n",
    "    fields=[]\n",
    "    for line in data:\n",
    "        fields.append(line.split()[0])\n",
    "    return fields   "
   ]
  },
  {
   "cell_type": "code",
   "execution_count": 3,
   "id": "23d9f9f7",
   "metadata": {},
   "outputs": [
    {
     "name": "stdout",
     "output_type": "stream",
     "text": [
      "['supplier.tbl', 'order.tbl', 'partsupp.tbl', 'nation.tbl', 'lineitem.tbl', 'region.tbl', 'part.tbl', 'customer.tbl']\n"
     ]
    }
   ],
   "source": [
    "#tpch_home = \"/usr/share/ApacheSpark/data/tpch/TPC-H-V3.0.1/dbgen\"\n",
    "tpch_home = \"/usr/share/ApacheSpark/data/tpch/TPC-H-Skew\"\n",
    "z_path=\"/z_default\"\n",
    "\n",
    "path= tpch_home + z_path\n",
    "\n",
    "# Get a list of all .tbl files in the directory\n",
    "files = [f for f in os.listdir(path) if os.path.isfile(os.path.join(path, f)) and f.endswith('.tbl')]\n",
    "\n",
    "# Print the list of files\n",
    "print(files)"
   ]
  },
  {
   "cell_type": "code",
   "execution_count": 4,
   "id": "77b5697e",
   "metadata": {},
   "outputs": [
    {
     "name": "stderr",
     "output_type": "stream",
     "text": [
      "                                                                                \r"
     ]
    },
    {
     "name": "stdout",
     "output_type": "stream",
     "text": [
      "Total Rows in lineitem.tbl: 600000\n"
     ]
    }
   ],
   "source": [
    "tablename= \"lineitem.tbl\";\n",
    "filename= path + \"/\"+tablename\n",
    "tpch_df = load_table(filename)\n",
    "print(f\"Total Rows in {tablename}:\", tpch_df.count())"
   ]
  },
  {
   "cell_type": "code",
   "execution_count": 5,
   "id": "83a88412",
   "metadata": {},
   "outputs": [
    {
     "name": "stdout",
     "output_type": "stream",
     "text": [
      "+---+-----+---+---+---+--------+----+----+---+---+-------------------+-------------------+-------------------+-----------------+-------+--------------------+----+\n",
      "|_c0|  _c1|_c2|_c3|_c4|     _c5| _c6| _c7|_c8|_c9|               _c10|               _c11|               _c12|             _c13|   _c14|                _c15|_c16|\n",
      "+---+-----+---+---+---+--------+----+----+---+---+-------------------+-------------------+-------------------+-----------------+-------+--------------------+----+\n",
      "|  1|15519|785|  1| 17|24386.67|0.04|0.02|  N|  O|1996-03-13 00:00:00|1996-02-12 00:00:00|1996-03-22 00:00:00|DELIVER IN PERSON|  TRUCK|B3hnOy6xLnMz2jk63...|null|\n",
      "|  1| 6731|732|  2| 36|58958.28|0.09|0.06|  N|  O|1996-04-12 00:00:00|1996-02-28 00:00:00|1996-04-20 00:00:00| TAKE BACK RETURN|   MAIL|On6SO15lySjwCBg4Q...|null|\n",
      "|  1| 6370|371|  3|  8|10210.96| 0.1|0.02|  N|  O|1996-01-29 00:00:00|1996-03-05 00:00:00|1996-01-31 00:00:00| TAKE BACK RETURN|REG AIR|      12gQgkN35gmOx6|null|\n",
      "|  1|  214|465|  4| 28|31197.88|0.09|0.06|  N|  O|1996-04-21 00:00:00|1996-03-30 00:00:00|1996-05-16 00:00:00|             NONE|    AIR|    5xS7MOg0in1 NzM |null|\n",
      "|  1| 2403|160|  5| 24| 31329.6| 0.1|0.04|  N|  O|1996-03-30 00:00:00|1996-03-14 00:00:00|1996-04-01 00:00:00|             NONE|    FOB|hQC42Aj4hM27zRh1R...|null|\n",
      "+---+-----+---+---+---+--------+----+----+---+---+-------------------+-------------------+-------------------+-----------------+-------+--------------------+----+\n",
      "only showing top 5 rows\n",
      "\n",
      "root\n",
      " |-- _c0: integer (nullable = true)\n",
      " |-- _c1: integer (nullable = true)\n",
      " |-- _c2: integer (nullable = true)\n",
      " |-- _c3: integer (nullable = true)\n",
      " |-- _c4: integer (nullable = true)\n",
      " |-- _c5: double (nullable = true)\n",
      " |-- _c6: double (nullable = true)\n",
      " |-- _c7: double (nullable = true)\n",
      " |-- _c8: string (nullable = true)\n",
      " |-- _c9: string (nullable = true)\n",
      " |-- _c10: timestamp (nullable = true)\n",
      " |-- _c11: timestamp (nullable = true)\n",
      " |-- _c12: timestamp (nullable = true)\n",
      " |-- _c13: string (nullable = true)\n",
      " |-- _c14: string (nullable = true)\n",
      " |-- _c15: string (nullable = true)\n",
      " |-- _c16: string (nullable = true)\n",
      "\n"
     ]
    }
   ],
   "source": [
    "tpch_df.show(5)\n",
    "tpch_df.printSchema()"
   ]
  },
  {
   "cell_type": "code",
   "execution_count": 6,
   "id": "e802c3a6",
   "metadata": {
    "scrolled": true
   },
   "outputs": [
    {
     "name": "stdout",
     "output_type": "stream",
     "text": [
      "+---+--------+----+-------------------+-------------------+-------------------+\n",
      "|_c4|     _c5| _c6|               _c10|               _c11|               _c12|\n",
      "+---+--------+----+-------------------+-------------------+-------------------+\n",
      "| 17|24386.67|0.04|1996-03-13 00:00:00|1996-02-12 00:00:00|1996-03-22 00:00:00|\n",
      "| 36|58958.28|0.09|1996-04-12 00:00:00|1996-02-28 00:00:00|1996-04-20 00:00:00|\n",
      "|  8|10210.96| 0.1|1996-01-29 00:00:00|1996-03-05 00:00:00|1996-01-31 00:00:00|\n",
      "| 28|31197.88|0.09|1996-04-21 00:00:00|1996-03-30 00:00:00|1996-05-16 00:00:00|\n",
      "| 24| 31329.6| 0.1|1996-03-30 00:00:00|1996-03-14 00:00:00|1996-04-01 00:00:00|\n",
      "+---+--------+----+-------------------+-------------------+-------------------+\n",
      "only showing top 5 rows\n",
      "\n"
     ]
    }
   ],
   "source": [
    "tpch_df.select(\"_c4\",\"_c5\",\"_c6\", \"_c10\", \"_c11\", \"_c12\").show(5)"
   ]
  },
  {
   "cell_type": "code",
   "execution_count": 7,
   "id": "f85bc6e4",
   "metadata": {},
   "outputs": [],
   "source": [
    "psdf = tpch_df.select(\"_c4\",\"_c5\",\"_c6\", \"_c10\", \"_c11\", \"_c12\").pandas_api()"
   ]
  },
  {
   "cell_type": "code",
   "execution_count": 8,
   "id": "90d9b7f4",
   "metadata": {},
   "outputs": [
    {
     "name": "stdout",
     "output_type": "stream",
     "text": [
      "23/03/20 19:42:47 WARN package: Truncated the string representation of a plan since it was too large. This behavior can be adjusted by setting 'spark.sql.debug.maxToStringFields'.\n"
     ]
    },
    {
     "name": "stderr",
     "output_type": "stream",
     "text": [
      "/usr/local/spark/python/pyspark/pandas/internal.py:1573: FutureWarning: iteritems is deprecated and will be removed in a future version. Use .items instead.\n",
      "  fields = [\n",
      "/usr/local/spark/python/pyspark/sql/pandas/conversion.py:486: FutureWarning: iteritems is deprecated and will be removed in a future version. Use .items instead.\n",
      "  for column, series in pdf.iteritems():\n",
      "                                                                                \r"
     ]
    },
    {
     "data": {
      "text/html": [
       "<div>\n",
       "<style scoped>\n",
       "    .dataframe tbody tr th:only-of-type {\n",
       "        vertical-align: middle;\n",
       "    }\n",
       "\n",
       "    .dataframe tbody tr th {\n",
       "        vertical-align: top;\n",
       "    }\n",
       "\n",
       "    .dataframe thead th {\n",
       "        text-align: right;\n",
       "    }\n",
       "</style>\n",
       "<table border=\"1\" class=\"dataframe\">\n",
       "  <thead>\n",
       "    <tr style=\"text-align: right;\">\n",
       "      <th></th>\n",
       "      <th>_c4</th>\n",
       "      <th>_c5</th>\n",
       "      <th>_c6</th>\n",
       "      <th>_c10</th>\n",
       "      <th>_c11</th>\n",
       "      <th>_c12</th>\n",
       "    </tr>\n",
       "  </thead>\n",
       "  <tbody>\n",
       "    <tr>\n",
       "      <th>count</th>\n",
       "      <td>600000.000000</td>\n",
       "      <td>600000.000000</td>\n",
       "      <td>600000.000000</td>\n",
       "      <td>600000</td>\n",
       "      <td>600000</td>\n",
       "      <td>600000</td>\n",
       "    </tr>\n",
       "    <tr>\n",
       "      <th>mean</th>\n",
       "      <td>25.000000</td>\n",
       "      <td>36000.440937</td>\n",
       "      <td>0.050082</td>\n",
       "      <td>1995-06-19 05:06:27.432000</td>\n",
       "      <td>1995-06-18 04:11:35.994000</td>\n",
       "      <td>1995-07-04 17:15:25.782000</td>\n",
       "    </tr>\n",
       "    <tr>\n",
       "      <th>min</th>\n",
       "      <td>1.000000</td>\n",
       "      <td>901.000000</td>\n",
       "      <td>0.000000</td>\n",
       "      <td>1992-01-02 00:00:00</td>\n",
       "      <td>1992-01-31 00:00:00</td>\n",
       "      <td>1992-01-08 00:00:00</td>\n",
       "    </tr>\n",
       "    <tr>\n",
       "      <th>25%</th>\n",
       "      <td>13.000000</td>\n",
       "      <td>17603.040000</td>\n",
       "      <td>0.020000</td>\n",
       "      <td>1993-10-29 00:00:00</td>\n",
       "      <td>1993-10-28 00:00:00</td>\n",
       "      <td>1993-11-13 00:00:00</td>\n",
       "    </tr>\n",
       "    <tr>\n",
       "      <th>50%</th>\n",
       "      <td>26.000000</td>\n",
       "      <td>34464.290000</td>\n",
       "      <td>0.050000</td>\n",
       "      <td>1995-06-19 00:00:00</td>\n",
       "      <td>1995-06-18 00:00:00</td>\n",
       "      <td>1995-07-05 00:00:00</td>\n",
       "    </tr>\n",
       "    <tr>\n",
       "      <th>75%</th>\n",
       "      <td>38.000000</td>\n",
       "      <td>51706.760000</td>\n",
       "      <td>0.080000</td>\n",
       "      <td>1997-02-09 00:00:00</td>\n",
       "      <td>1997-02-08 00:00:00</td>\n",
       "      <td>1997-02-25 00:00:00</td>\n",
       "    </tr>\n",
       "    <tr>\n",
       "      <th>max</th>\n",
       "      <td>50.000000</td>\n",
       "      <td>95949.500000</td>\n",
       "      <td>0.100000</td>\n",
       "      <td>1998-12-01 00:00:00</td>\n",
       "      <td>1998-10-31 00:00:00</td>\n",
       "      <td>1998-12-30 00:00:00</td>\n",
       "    </tr>\n",
       "    <tr>\n",
       "      <th>std</th>\n",
       "      <td>14.419337</td>\n",
       "      <td>22006.653092</td>\n",
       "      <td>0.031608</td>\n",
       "      <td>None</td>\n",
       "      <td>None</td>\n",
       "      <td>None</td>\n",
       "    </tr>\n",
       "  </tbody>\n",
       "</table>\n",
       "</div>"
      ],
      "text/plain": [
       "                 _c4            _c5            _c6                        _c10                        _c11                        _c12\n",
       "count  600000.000000  600000.000000  600000.000000                      600000                      600000                      600000\n",
       "mean       25.000000   36000.440937       0.050082  1995-06-19 05:06:27.432000  1995-06-18 04:11:35.994000  1995-07-04 17:15:25.782000\n",
       "min         1.000000     901.000000       0.000000         1992-01-02 00:00:00         1992-01-31 00:00:00         1992-01-08 00:00:00\n",
       "25%        13.000000   17603.040000       0.020000         1993-10-29 00:00:00         1993-10-28 00:00:00         1993-11-13 00:00:00\n",
       "50%        26.000000   34464.290000       0.050000         1995-06-19 00:00:00         1995-06-18 00:00:00         1995-07-05 00:00:00\n",
       "75%        38.000000   51706.760000       0.080000         1997-02-09 00:00:00         1997-02-08 00:00:00         1997-02-25 00:00:00\n",
       "max        50.000000   95949.500000       0.100000         1998-12-01 00:00:00         1998-10-31 00:00:00         1998-12-30 00:00:00\n",
       "std        14.419337   22006.653092       0.031608                        None                        None                        None"
      ]
     },
     "execution_count": 8,
     "metadata": {},
     "output_type": "execute_result"
    }
   ],
   "source": [
    "psdf.describe()"
   ]
  },
  {
   "cell_type": "code",
   "execution_count": 9,
   "id": "23e5b319",
   "metadata": {},
   "outputs": [
    {
     "name": "stderr",
     "output_type": "stream",
     "text": [
      "\r",
      "[Stage 14:>                                                       (0 + 17) / 17]\r",
      "\r",
      "                                                                                \r"
     ]
    },
    {
     "data": {
      "image/png": "[encoded data removed]",
      "text/plain": [
       "<Figure size 432x288 with 1 Axes>"
      ]
     },
     "metadata": {
      "needs_background": "light"
     },
     "output_type": "display_data"
    },
    {
     "data": {
      "image/png": "[encoded data removed]",
      "text/plain": [
       "<Figure size 432x288 with 1 Axes>"
      ]
     },
     "metadata": {
      "needs_background": "light"
     },
     "output_type": "display_data"
    },
    {
     "data": {
      "image/png": "[encoded data removed]",
      "text/plain": [
       "<Figure size 432x288 with 1 Axes>"
      ]
     },
     "metadata": {
      "needs_background": "light"
     },
     "output_type": "display_data"
    },
    {
     "data": {
      "image/png": "[encoded data removed]",
      "text/plain": [
       "<Figure size 432x288 with 1 Axes>"
      ]
     },
     "metadata": {
      "needs_background": "light"
     },
     "output_type": "display_data"
    },
    {
     "data": {
      "image/png": "[encoded data removed]",
      "text/plain": [
       "<Figure size 432x288 with 1 Axes>"
      ]
     },
     "metadata": {
      "needs_background": "light"
     },
     "output_type": "display_data"
    },
    {
     "data": {
      "image/png": "[encoded data removed]",
      "text/plain": [
       "<Figure size 432x288 with 1 Axes>"
      ]
     },
     "metadata": {
      "needs_background": "light"
     },
     "output_type": "display_data"
    }
   ],
   "source": [
    "from matplotlib import colors\n",
    "from matplotlib.ticker import PercentFormatter\n",
    "import warnings\n",
    "warnings.filterwarnings(\"ignore\")  # Ignore warnings coming from Arrow optimizations.\n",
    "\n",
    "# Create a random number generator with a fixed seed for reproducibility\n",
    "field_List= getFieldList(tablename=\"LINEITEM\")\n",
    "col_list= tpch_df.columns\n",
    "n_bins = 20\n",
    "\n",
    "for col in psdf.columns: \n",
    "    dist1 = psdf[col]    \n",
    "    field_label = field_List[col_list.index(col)]\n",
    "    fig, axs = plt.subplots(1, 1, sharey=False, tight_layout=False)\n",
    "    axs.hist(dist1, bins=n_bins)\n",
    "    axs.set_title(f\"Histogram for {field_label}\")"
   ]
  },
  {
   "cell_type": "code",
   "execution_count": null,
   "id": "bb4244bc",
   "metadata": {},
   "outputs": [],
   "source": []
  }
 ],
 "metadata": {
  "kernelspec": {
   "display_name": "Python 3 (ipykernel)",
   "language": "python",
   "name": "python3"
  },
  "language_info": {
   "codemirror_mode": {
    "name": "ipython",
    "version": 3
   },
   "file_extension": ".py",
   "mimetype": "text/x-python",
   "name": "python",
   "nbconvert_exporter": "python",
   "pygments_lexer": "ipython3",
   "version": "3.10.6"
  }
 },
 "nbformat": 4,
 "nbformat_minor": 5
}
